{
 "cells": [
  {
   "cell_type": "markdown",
   "metadata": {},
   "source": [
    "# WeatherPy\n",
    "----\n",
    "Trends\n",
    "\n",
    "The correlation between max temperatures and proximity to the equator is stronger in the Southern Hemisphere than the Northern Hemisphere\n",
    "The correlation between humidity and proximity to the equator is minimal\n",
    "There is virtually no correlation between wind speed and proximity to the equator"
   ]
  },
  {
   "cell_type": "code",
   "execution_count": 1,
   "metadata": {
    "scrolled": true
   },
   "outputs": [
    {
     "name": "stdout",
     "output_type": "stream",
     "text": [
      "525752cd2c3a9f86b0ffe6ffaf46b8d9\n"
     ]
    }
   ],
   "source": [
    "# Dependencies and Setup\n",
    "import matplotlib.pyplot as plt\n",
    "import pandas as pd\n",
    "import numpy as np\n",
    "import requests\n",
    "import time\n",
    "from scipy.stats import linregress\n",
    "\n",
    "# Import API key\n",
    "from api_keys import weather_api_key\n",
    "\n",
    "# Incorporated citipy to determine city based on latitude and longitude\n",
    "from citipy import citipy\n",
    "\n",
    "# Output File (CSV)\n",
    "output_data_file = \"output_data/cities.csv\"\n",
    "\n",
    "# Range of latitudes and longitudes\n",
    "lat_range = (-90, 90)\n",
    "lng_range = (-180, 180)\n",
    "print(weather_api_key)"
   ]
  },
  {
   "cell_type": "markdown",
   "metadata": {},
   "source": [
    "## Generate Cities List"
   ]
  },
  {
   "cell_type": "code",
   "execution_count": 2,
   "metadata": {},
   "outputs": [
    {
     "data": {
      "text/plain": [
       "606"
      ]
     },
     "execution_count": 2,
     "metadata": {},
     "output_type": "execute_result"
    }
   ],
   "source": [
    "# List for holding lat_lngs and cities\n",
    "lat_lngs = []\n",
    "cities = []\n",
    "\n",
    "# Create a set of random lat and lng combinations\n",
    "lats = np.random.uniform(lat_range[0], lat_range[1], size=1500)\n",
    "lngs = np.random.uniform(lng_range[0], lng_range[1], size=1500)\n",
    "lat_lngs = zip(lats, lngs)\n",
    "\n",
    "# Identify nearest city for each lat, lng combination\n",
    "for lat_lng in lat_lngs:\n",
    "    city = citipy.nearest_city(lat_lng[0], lat_lng[1]).city_name\n",
    "    \n",
    "    # If the city is unique, then add it to a our cities list\n",
    "    if city not in cities:\n",
    "        cities.append(city)\n",
    "\n",
    "# Print the city count to confirm sufficient count\n",
    "len(cities)"
   ]
  },
  {
   "cell_type": "markdown",
   "metadata": {},
   "source": [
    "### Perform API Calls\n",
    "* Perform a weather check on each city using a series of successive API calls.\n",
    "* Include a print log of each city as it'sbeing processed (with the city number and city name).\n"
   ]
  },
  {
   "cell_type": "code",
   "execution_count": 7,
   "metadata": {},
   "outputs": [
    {
     "name": "stdout",
     "output_type": "stream",
     "text": [
      "Begining data retrieval\n",
      "City Name: mukhen. ID: 1\n",
      "City Name: atar. ID: 2\n",
      "City Name: nikolskoye. ID: 3\n",
      "City Name: leona vicario. ID: 4\n",
      "City Name: chokurdakh. ID: 5\n",
      "City Name: haines junction. ID: 6\n",
      "City Name: samarai. ID: 7\n",
      "City Name: anadyr. ID: 8\n",
      "City Name: port alfred. ID: 9\n",
      "City Name: ushuaia. ID: 10\n",
      "City Name: boshnyakovo. ID: 11\n",
      "City Name: caravelas. ID: 12\n",
      "City Name: kavieng. ID: 13\n",
      "City Name: escanaba. ID: 14\n",
      "City Name: dikson. ID: 15\n",
      "City Name: quartucciu. ID: 16\n",
      "City Name: huilong. ID: 17\n",
      "City Name: gamba. ID: 18\n",
      "City Name: rikitea. ID: 19\n",
      "City Name: provideniya. ID: 20\n",
      "City Name: ribeira grande. ID: 21\n",
      "City Name: vanavara. ID: 22\n",
      "City Name: tiksi. ID: 23\n",
      "City Name: bambous virieux. ID: 24\n",
      "City Name: fairbanks. ID: 25\n",
      "City Name: busselton. ID: 26\n",
      "City Name: bengkulu. ID: 27\n",
      "City Name: punta arenas. ID: 28\n",
      "City Name: cheyenne. ID: 29\n",
      "City Name: albany. ID: 30\n",
      "City Name: georgetown. ID: 31\n",
      "City Name: pevek. ID: 32\n",
      "City Name: klaksvik. ID: 33\n",
      "City Name: da lat. ID: 34\n",
      "City Name: charters towers. ID: 35\n",
      "City Name: faya. ID: 36\n",
      "City Name: bethel. ID: 37\n",
      "City Name: cabedelo. ID: 38\n",
      "City Name: saint-augustin. ID: 39\n",
      "City Name: jamestown. ID: 40\n",
      "City Name: hamilton. ID: 41\n",
      "City Name: manama. ID: 42\n",
      "City Name: quatre cocos. ID: 43\n",
      "City Name: margate. ID: 44\n",
      "City Name: tuktoyaktuk. ID: 45\n",
      "City Name: rabo de peixe. ID: 46\n",
      "City Name: bredasdorp. ID: 47\n",
      "City Name: kapaa. ID: 48\n",
      "City Name: cordoba. ID: 49\n",
      "City Name: esperance. ID: 50\n",
      "City Name: vaini. ID: 51\n",
      "City Name: ponta do sol. ID: 52\n",
      "City Name: abha. ID: 53\n",
      "City Name: sao filipe. ID: 54\n",
      "City Name: lubao. ID: 55\n",
      "City Name: katsuura. ID: 56\n",
      "City Name: thompson. ID: 57\n",
      "City Name: arraial do cabo. ID: 58\n",
      "City Name: prado. ID: 59\n",
      "City Name: iqaluit. ID: 60\n",
      "City Name: new norfolk. ID: 61\n",
      "City Name: grindavik. ID: 62\n",
      "City Name: richards bay. ID: 63\n",
      "City Name: hobart. ID: 64\n",
      "City Name: sabzevar. ID: 65\n",
      "City Name: puerto ayora. ID: 66\n",
      "City Name: darnah. ID: 67\n",
      "City Name: parana. ID: 68\n",
      "City Name: naze. ID: 69\n",
      "City Name: barrow. ID: 70\n",
      "City Name: makakilo city. ID: 71\n",
      "City Name: yellowknife. ID: 72\n",
      "City Name: edgewater. ID: 73\n",
      "City Name: bluff. ID: 74\n",
      "City Name: misratah. ID: 75\n",
      "City Name: tasiilaq. ID: 76\n",
      "City Name: hilo. ID: 77\n",
      "City Name: taoudenni. ID: 78\n",
      "City Name: caluquembe. ID: 79\n",
      "City Name: torbay. ID: 80\n",
      "City Name: butaritari. ID: 81\n",
      "City Name: tuatapere. ID: 82\n",
      "City Name: mataura. ID: 83\n",
      "City Name: campbell river. ID: 84\n",
      "City Name: belogorsk. ID: 85\n",
      "City Name: east london. ID: 86\n",
      "City Name: novyy urengoy. ID: 87\n",
      "City Name: tlyustenkhabl. ID: 88\n",
      "City Name: inirida. ID: 89\n",
      "City Name: los llanos de aridane. ID: 90\n",
      "City Name: mahebourg. ID: 91\n",
      "City Name: yershichi. ID: 92\n",
      "City Name: saskylakh. ID: 93\n",
      "City Name: dingle. ID: 94\n",
      "City Name: sitka. ID: 95\n",
      "City Name: coihaique. ID: 96\n",
      "City Name: santa marta. ID: 97\n",
      "City Name: vestmannaeyjar. ID: 98\n",
      "City Name: olafsvik. ID: 99\n",
      "City Name: victoria. ID: 100\n",
      "City Name: cidreira. ID: 101\n",
      "City Name: north bend. ID: 102\n",
      "City Name: enshi. ID: 103\n",
      "City Name: paita. ID: 104\n",
      "City Name: avarua. ID: 105\n",
      "City Name: beloha. ID: 106\n",
      "City Name: isangel. ID: 107\n",
      "City Name: luganville. ID: 108\n",
      "City Name: tutoia. ID: 109\n",
      "City Name: balaguer. ID: 110\n",
      "City Name: mar del plata. ID: 111\n",
      "City Name: riyadh. ID: 112\n",
      "City Name: sumenep. ID: 113\n",
      "City Name: chuy. ID: 114\n",
      "City Name: nikolayevka. ID: 115\n",
      "City Name: atuona. ID: 116\n",
      "City Name: deputatskiy. ID: 117\n",
      "City Name: raudeberg. ID: 118\n",
      "City Name: sakakah. ID: 119\n",
      "City Name: columbus. ID: 120\n",
      "City Name: sao joao da barra. ID: 121\n",
      "City Name: athol. ID: 122\n",
      "City Name: zorritos. ID: 123\n",
      "City Name: leh. ID: 124\n",
      "City Name: seoul. ID: 125\n",
      "City Name: port lincoln. ID: 126\n",
      "City Name: beidao. ID: 127\n",
      "City Name: prata. ID: 128\n",
      "City Name: khatanga. ID: 129\n",
      "City Name: kyshtovka. ID: 130\n",
      "City Name: keti bandar. ID: 131\n",
      "City Name: lebu. ID: 132\n",
      "City Name: guelph. ID: 133\n",
      "City Name: srikakulam. ID: 134\n",
      "City Name: aswan. ID: 135\n",
      "City Name: ixtapa. ID: 136\n",
      "City Name: qaanaaq. ID: 137\n",
      "City Name: college. ID: 138\n",
      "City Name: airai. ID: 139\n",
      "City Name: srednekolymsk. ID: 140\n",
      "City Name: port elizabeth. ID: 141\n",
      "City Name: sibul. ID: 142\n",
      "City Name: hithadhoo. ID: 143\n",
      "City Name: mpongwe. ID: 144\n",
      "City Name: tibiri. ID: 145\n",
      "City Name: hofn. ID: 146\n",
      "City Name: sorland. ID: 147\n",
      "City Name: mildura. ID: 148\n",
      "City Name: kununurra. ID: 149\n",
      "City Name: cherskiy. ID: 150\n",
      "City Name: guadalupe y calvo. ID: 151\n",
      "City Name: iwanai. ID: 152\n",
      "City Name: chapada dos guimaraes. ID: 153\n",
      "City Name: conakry. ID: 154\n",
      "City Name: ancud. ID: 155\n",
      "City Name: marawi. ID: 156\n",
      "City Name: sterling. ID: 157\n",
      "City Name: alofi. ID: 158\n",
      "City Name: longyearbyen. ID: 159\n",
      "City Name: tanete. ID: 160\n",
      "City Name: liliani. ID: 161\n",
      "City Name: amapa. ID: 162\n",
      "City Name: saint-paul. ID: 163\n",
      "City Name: severo-kurilsk. ID: 164\n",
      "City Name: valdivia. ID: 165\n",
      "City Name: halifax. ID: 166\n",
      "City Name: shanhetun. ID: 167\n",
      "City Name: san quintin. ID: 168\n",
      "City Name: pavelets. ID: 169\n",
      "City Name: atikokan. ID: 170\n",
      "City Name: usakos. ID: 171\n",
      "City Name: tessalit. ID: 172\n",
      "City Name: hermanus. ID: 173\n",
      "City Name: dno. ID: 174\n",
      "City Name: at-bashi. ID: 175\n",
      "City Name: tadine. ID: 176\n",
      "City Name: meulaboh. ID: 177\n",
      "City Name: alanya. ID: 178\n",
      "City Name: te anau. ID: 179\n",
      "City Name: vestmanna. ID: 180\n",
      "City Name: kudahuvadhoo. ID: 181\n",
      "City Name: plettenberg bay. ID: 182\n",
      "City Name: tsiroanomandidy. ID: 183\n",
      "City Name: carnarvon. ID: 184\n",
      "City Name: ostrovnoy. ID: 185\n",
      "City Name: angoram. ID: 186\n",
      "City Name: buffalo. ID: 187\n",
      "City Name: hanzhong. ID: 188\n",
      "City Name: rio grande. ID: 189\n",
      "City Name: tonstad. ID: 190\n",
      "City Name: kostrzyn. ID: 191\n",
      "City Name: saldanha. ID: 192\n",
      "City Name: ahipara. ID: 193\n",
      "City Name: faanui. ID: 194\n",
      "City Name: mulheim. ID: 195\n",
      "City Name: cururupu. ID: 196\n",
      "City Name: batticaloa. ID: 197\n",
      "City Name: tautira. ID: 198\n",
      "City Name: kruisfontein. ID: 199\n",
      "City Name: mount gambier. ID: 200\n",
      "City Name: lisakovsk. ID: 201\n",
      "City Name: bandarbeyla. ID: 202\n",
      "City Name: port-gentil. ID: 203\n",
      "City Name: rincon. ID: 204\n",
      "City Name: el paso. ID: 205\n",
      "City Name: baykit. ID: 206\n",
      "City Name: kaeo. ID: 207\n",
      "City Name: hobyo. ID: 208\n",
      "City Name: chulumani. ID: 209\n",
      "City Name: manyana. ID: 210\n",
      "City Name: ambovombe. ID: 211\n",
      "City Name: nikel. ID: 212\n",
      "City Name: norman wells. ID: 213\n",
      "City Name: mineral wells. ID: 214\n",
      "City Name: san pedro del pinatar. ID: 215\n",
      "City Name: okato. ID: 216\n",
      "City Name: gizo. ID: 217\n",
      "City Name: marsh harbour. ID: 218\n",
      "City Name: bilkha. ID: 219\n",
      "City Name: smithers. ID: 220\n",
      "City Name: maumere. ID: 221\n",
      "City Name: ostersund. ID: 222\n",
      "City Name: buzmeyin. ID: 223\n",
      "City Name: sinnamary. ID: 224\n",
      "City Name: esmeraldas. ID: 225\n",
      "City Name: kalanguy. ID: 226\n",
      "City Name: roald. ID: 227\n",
      "City Name: codrington. ID: 228\n",
      "City Name: saquena. ID: 229\n",
      "City Name: hualmay. ID: 230\n",
      "City Name: cayenne. ID: 231\n",
      "City Name: iralaya. ID: 232\n",
      "City Name: castro. ID: 233\n",
      "City Name: goderich. ID: 234\n",
      "City Name: hue. ID: 235\n",
      "City Name: davidson. ID: 236\n",
      "City Name: witu. ID: 237\n",
      "City Name: poum. ID: 238\n",
      "City Name: madang. ID: 239\n",
      "City Name: umm kaddadah. ID: 240\n",
      "City Name: demba. ID: 241\n",
      "City Name: rantepao. ID: 242\n",
      "City Name: segou. ID: 243\n",
      "City Name: kodiak. ID: 244\n",
      "City Name: vargashi. ID: 245\n",
      "City Name: harper. ID: 246\n",
      "City Name: drayton valley. ID: 247\n",
      "City Name: rogatica. ID: 248\n",
      "City Name: albemarle. ID: 249\n",
      "City Name: barabinsk. ID: 250\n",
      "City Name: bandar-e lengeh. ID: 251\n",
      "City Name: leningradskiy. ID: 252\n",
      "City Name: kirgiz-miyaki. ID: 253\n",
      "City Name: pacific grove. ID: 254\n",
      "City Name: saint-georges. ID: 255\n",
      "City Name: belyy yar. ID: 256\n",
      "City Name: constitucion. ID: 257\n",
      "City Name: broome. ID: 258\n",
      "City Name: los alamos. ID: 259\n",
      "City Name: upernavik. ID: 260\n",
      "City Name: lasem. ID: 261\n",
      "City Name: nizhnedevitsk. ID: 262\n",
      "City Name: krasnoselkup. ID: 263\n",
      "City Name: yerbogachen. ID: 264\n",
      "City Name: hasaki. ID: 265\n",
      "City Name: kattivakkam. ID: 266\n",
      "City Name: mackay. ID: 267\n",
      "City Name: sampang. ID: 268\n",
      "City Name: guozhen. ID: 269\n",
      "City Name: lompoc. ID: 270\n",
      "City Name: kstovo. ID: 271\n",
      "City Name: chernyshevsk. ID: 272\n",
      "City Name: taormina. ID: 273\n",
      "City Name: zharkovskiy. ID: 274\n",
      "City Name: omaha. ID: 275\n",
      "City Name: cap malheureux. ID: 276\n",
      "City Name: barkhan. ID: 277\n",
      "City Name: rayadrug. ID: 278\n",
      "City Name: salalah. ID: 279\n",
      "City Name: hedaru. ID: 280\n",
      "City Name: cape town. ID: 281\n",
      "City Name: jishui. ID: 282\n",
      "City Name: san patricio. ID: 283\n",
      "City Name: tamiahua. ID: 284\n",
      "City Name: kasempa. ID: 285\n",
      "City Name: tecoanapa. ID: 286\n",
      "City Name: chaman. ID: 287\n",
      "City Name: padang. ID: 288\n",
      "City Name: kendari. ID: 289\n",
      "City Name: paamiut. ID: 290\n",
      "City Name: lavrentiya. ID: 291\n",
      "City Name: dwarka. ID: 292\n",
      "City Name: kleive. ID: 293\n",
      "City Name: barentu. ID: 294\n",
      "City Name: vila velha. ID: 295\n",
      "City Name: de aar. ID: 296\n",
      "City Name: luwuk. ID: 297\n",
      "City Name: kasane. ID: 298\n",
      "City Name: waingapu. ID: 299\n",
      "City Name: kuntaur. ID: 300\n",
      "City Name: viransehir. ID: 301\n",
      "City Name: kundiawa. ID: 302\n",
      "City Name: kaitangata. ID: 303\n",
      "City Name: stornoway. ID: 304\n",
      "City Name: pitmoaga. ID: 305\n",
      "City Name: guanare. ID: 306\n",
      "City Name: ruwi. ID: 307\n",
      "City Name: pisco. ID: 308\n",
      "City Name: cheremshan. ID: 309\n",
      "City Name: tacuarembo. ID: 310\n",
      "City Name: aduturai. ID: 311\n",
      "City Name: dunyapur. ID: 312\n",
      "City Name: cabo san lucas. ID: 313\n",
      "City Name: sangar. ID: 314\n",
      "City Name: andros town. ID: 315\n",
      "City Name: manbij. ID: 316\n",
      "City Name: gannan. ID: 317\n",
      "City Name: luderitz. ID: 318\n",
      "City Name: muros. ID: 319\n",
      "City Name: senanga. ID: 320\n",
      "City Name: marang. ID: 321\n",
      "City Name: nampula. ID: 322\n",
      "City Name: taihe. ID: 323\n",
      "City Name: geraldton. ID: 324\n",
      "City Name: gurlan. ID: 325\n",
      "City Name: odweyne. ID: 326\n",
      "City Name: sovetskiy. ID: 327\n",
      "City Name: saint george. ID: 328\n",
      "City Name: lagoa. ID: 329\n",
      "City Name: kieta. ID: 330\n",
      "City Name: lazaro cardenas. ID: 331\n",
      "City Name: westport. ID: 332\n",
      "City Name: saint-philippe. ID: 333\n",
      "City Name: sao miguel do araguaia. ID: 334\n",
      "City Name: basco. ID: 335\n",
      "City Name: guilin. ID: 336\n",
      "City Name: russell. ID: 337\n",
      "City Name: panaba. ID: 338\n",
      "City Name: zyryanovsk. ID: 339\n",
      "City Name: esil. ID: 340\n",
      "City Name: berbera. ID: 341\n",
      "City Name: carlisle. ID: 342\n",
      "City Name: souillac. ID: 343\n",
      "City Name: morehead. ID: 344\n",
      "City Name: longmont. ID: 345\n",
      "City Name: la ronge. ID: 346\n",
      "City Name: trairi. ID: 347\n",
      "City Name: kjollefjord. ID: 348\n",
      "City Name: bilibino. ID: 349\n",
      "City Name: jumla. ID: 350\n",
      "City Name: vanimo. ID: 351\n",
      "City Name: ismailia. ID: 352\n",
      "City Name: maningrida. ID: 353\n",
      "City Name: hami. ID: 354\n",
      "City Name: jizan. ID: 355\n",
      "City Name: bellavista. ID: 356\n",
      "City Name: medea. ID: 357\n",
      "City Name: chimbarongo. ID: 358\n",
      "City Name: lethem. ID: 359\n",
      "City Name: kutum. ID: 360\n",
      "City Name: kingman. ID: 361\n",
      "City Name: ortigueira. ID: 362\n",
      "City Name: seguin. ID: 363\n",
      "City Name: tumanyan. ID: 364\n",
      "City Name: cockburn town. ID: 365\n",
      "City Name: tomatlan. ID: 366\n",
      "City Name: itarema. ID: 367\n",
      "City Name: srandakan. ID: 368\n",
      "City Name: natitingou. ID: 369\n",
      "City Name: kasongo-lunda. ID: 370\n",
      "City Name: camocim. ID: 371\n",
      "City Name: goundam. ID: 372\n",
      "City Name: thinadhoo. ID: 373\n",
      "City Name: denpasar. ID: 374\n",
      "City Name: khasan. ID: 375\n",
      "City Name: pangnirtung. ID: 376\n",
      "City Name: bubaque. ID: 377\n",
      "City Name: port blair. ID: 378\n",
      "City Name: husavik. ID: 379\n",
      "City Name: magdagachi. ID: 380\n",
      "City Name: yambio. ID: 381\n",
      "City Name: anaconda. ID: 382\n",
      "City Name: agadez. ID: 383\n",
      "City Name: barinas. ID: 384\n",
      "City Name: sokolo. ID: 385\n",
      "City Name: nouadhibou. ID: 386\n",
      "City Name: salamanca. ID: 387\n",
      "City Name: krasnyy yar. ID: 388\n",
      "City Name: tateyama. ID: 389\n",
      "City Name: chany. ID: 390\n",
      "City Name: diapaga. ID: 391\n",
      "City Name: fallon. ID: 392\n",
      "City Name: nesebar. ID: 393\n",
      "City Name: price. ID: 394\n",
      "City Name: goure. ID: 395\n",
      "City Name: carmo do rio claro. ID: 396\n",
      "City Name: katghora. ID: 397\n",
      "City Name: acari. ID: 398\n",
      "City Name: port macquarie. ID: 399\n",
      "City Name: pasighat. ID: 400\n",
      "City Name: tottori. ID: 401\n",
      "City Name: petropavlovsk-kamchatskiy. ID: 402\n",
      "City Name: lingdong. ID: 403\n",
      "City Name: xining. ID: 404\n",
      "City Name: nyurba. ID: 405\n",
      "City Name: buraydah. ID: 406\n",
      "City Name: togur. ID: 407\n",
      "City Name: pasir gudang. ID: 408\n",
      "City Name: broken hill. ID: 409\n",
      "City Name: okhotsk. ID: 410\n",
      "City Name: hay river. ID: 411\n",
      "City Name: awjilah. ID: 412\n",
      "City Name: nanchang. ID: 413\n",
      "City Name: coahuayana. ID: 414\n",
      "City Name: igarka. ID: 415\n",
      "City Name: ovsyanka. ID: 416\n",
      "City Name: rumonge. ID: 417\n",
      "City Name: nanortalik. ID: 418\n",
      "City Name: thanh hoa. ID: 419\n",
      "City Name: waitati. ID: 420\n",
      "City Name: coari. ID: 421\n",
      "City Name: sorong. ID: 422\n",
      "City Name: hovd. ID: 423\n",
      "City Name: touros. ID: 424\n",
      "City Name: vista hermosa. ID: 425\n",
      "City Name: labod. ID: 426\n",
      "City Name: akyab. ID: 427\n",
      "City Name: altamirano. ID: 428\n",
      "City Name: san ramon. ID: 429\n",
      "City Name: aberdeen. ID: 430\n",
      "City Name: san diego. ID: 431\n",
      "City Name: razole. ID: 432\n",
      "City Name: nuevo progreso. ID: 433\n",
      "City Name: birao. ID: 434\n",
      "City Name: mayo. ID: 435\n",
      "City Name: vila franca do campo. ID: 436\n",
      "City Name: balkanabat. ID: 437\n",
      "City Name: puruaran. ID: 438\n",
      "City Name: barvinkove. ID: 439\n",
      "City Name: ilulissat. ID: 440\n",
      "City Name: opuwo. ID: 441\n",
      "City Name: buluang. ID: 442\n",
      "City Name: novoagansk. ID: 443\n",
      "City Name: xuddur. ID: 444\n",
      "City Name: moose factory. ID: 445\n",
      "City Name: minas. ID: 446\n",
      "City Name: lewistown. ID: 447\n",
      "City Name: olinda. ID: 448\n",
      "City Name: moroni. ID: 449\n",
      "City Name: santa rosa. ID: 450\n",
      "City Name: san angelo. ID: 451\n",
      "City Name: leopold. ID: 452\n",
      "City Name: yaan. ID: 453\n",
      "City Name: colesberg. ID: 454\n",
      "City Name: amuntai. ID: 455\n",
      "City Name: carlagan. ID: 456\n",
      "City Name: sorochinsk. ID: 457\n",
      "City Name: bambanglipuro. ID: 458\n",
      "City Name: reconquista. ID: 459\n",
      "City Name: loandjili. ID: 460\n",
      "City Name: landshut. ID: 461\n",
      "City Name: tabuk. ID: 462\n",
      "City Name: adrar. ID: 463\n",
      "City Name: bathsheba. ID: 464\n",
      "City Name: lewiston. ID: 465\n",
      "City Name: karacakoy. ID: 466\n",
      "City Name: karasjok. ID: 467\n",
      "City Name: kamenka. ID: 468\n",
      "City Name: mount isa. ID: 469\n",
      "City Name: severo-yeniseyskiy. ID: 470\n",
      "City Name: visby. ID: 471\n",
      "City Name: san cristobal. ID: 472\n",
      "City Name: nivala. ID: 473\n",
      "City Name: hilsa. ID: 474\n",
      "City Name: talnakh. ID: 475\n",
      "City Name: bilma. ID: 476\n",
      "City Name: kahului. ID: 477\n",
      "City Name: nantucket. ID: 478\n",
      "City Name: mareeba. ID: 479\n",
      "City Name: vydrino. ID: 480\n",
      "City Name: waspan. ID: 481\n",
      "City Name: portland. ID: 482\n",
      "City Name: flin flon. ID: 483\n",
      "City Name: bella union. ID: 484\n",
      "City Name: sioux lookout. ID: 485\n",
      "City Name: lugovoy. ID: 486\n",
      "City Name: talara. ID: 487\n",
      "City Name: byron bay. ID: 488\n",
      "City Name: pemangkat. ID: 489\n",
      "City Name: walvis bay. ID: 490\n",
      "City Name: marovoay. ID: 491\n",
      "City Name: atbasar. ID: 492\n",
      "City Name: saint-pierre. ID: 493\n",
      "City Name: fruitville. ID: 494\n",
      "City Name: urucara. ID: 495\n",
      "City Name: panguipulli. ID: 496\n",
      "City Name: najran. ID: 497\n",
      "City Name: nome. ID: 498\n",
      "City Name: opmeer. ID: 499\n",
      "City Name: hornepayne. ID: 500\n",
      "City Name: shimanovsk. ID: 501\n",
      "City Name: florianopolis. ID: 502\n",
      "City Name: dawson. ID: 503\n",
      "City Name: nalut. ID: 504\n",
      "City Name: asfi. ID: 505\n",
      "City Name: paragould. ID: 506\n",
      "City Name: villa guerrero. ID: 507\n",
      "City Name: linkou. ID: 508\n",
      "City Name: priargunsk. ID: 509\n",
      "City Name: isla mujeres. ID: 510\n",
      "City Name: coruripe. ID: 511\n",
      "City Name: general roca. ID: 512\n",
      "City Name: ketchikan. ID: 513\n",
      "City Name: puerto madero. ID: 514\n",
      "City Name: boyuibe. ID: 515\n",
      "City Name: bundaberg. ID: 516\n",
      "City Name: tucuma. ID: 517\n",
      "City Name: parkes. ID: 518\n",
      "City Name: governador valadares. ID: 519\n",
      "City Name: skiathos. ID: 520\n",
      "City Name: alihe. ID: 521\n",
      "City Name: labuhan. ID: 522\n",
      "City Name: pravia. ID: 523\n",
      "City Name: jibuti. ID: 524\n",
      "City Name: tabou. ID: 525\n",
      "City Name: brae. ID: 526\n",
      "City Name: solnechnyy. ID: 527\n",
      "City Name: ak-dovurak. ID: 528\n",
      "City Name: palampur. ID: 529\n",
      "City Name: buchanan. ID: 530\n",
      "City Name: salinopolis. ID: 531\n",
      "City Name: mangrol. ID: 532\n",
      "City Name: point fortin. ID: 533\n",
      "City Name: jalu. ID: 534\n",
      "City Name: palmer. ID: 535\n",
      "City Name: mandan. ID: 536\n",
      "City Name: shar. ID: 537\n",
      "City Name: lewisporte. ID: 538\n",
      "City Name: gavrilovka vtoraya. ID: 539\n",
      "City Name: kynashiv. ID: 540\n",
      "City Name: vuktyl. ID: 541\n",
      "City Name: ibra. ID: 542\n",
      "City Name: tigil. ID: 543\n",
      "City Name: shangzhi. ID: 544\n",
      "City Name: buala. ID: 545\n",
      "City Name: alekseyevsk. ID: 546\n",
      "City Name: gashua. ID: 547\n",
      "City Name: afua. ID: 548\n",
      "City Name: christchurch. ID: 549\n",
      "City Name: puerto carreno. ID: 550\n",
      "City Name: leshukonskoye. ID: 551\n",
      "City Name: toftlund. ID: 552\n",
      "City Name: lugoba. ID: 553\n",
      "City Name: coquimbo. ID: 554\n",
      "City Name: ucluelet. ID: 555\n",
      "City Name: roebourne. ID: 556\n",
      "City Name: arlit. ID: 557\n",
      "City Name: juneau. ID: 558\n",
      "City Name: montepuez. ID: 559\n",
      "City Name: shelburne. ID: 560\n",
      "City Name: eureka. ID: 561\n",
      "City Name: billings. ID: 562\n",
      "City Name: half moon bay. ID: 563\n",
      "City Name: tiarei. ID: 564\n",
      "City Name: scarborough. ID: 565\n",
      "City Name: karasburg. ID: 566\n",
      "City Name: bukavu. ID: 567\n",
      "counldn't find city\n"
     ]
    }
   ],
   "source": [
    "base_url = f\"http://api.openweathermap.org/data/2.5/weather?APPID={weather_api_key}&units=imperial&q=\"\n",
    "\n",
    "data_dic = {\n",
    "            \"City\": [],\n",
    "            \"Latitude\": [],\n",
    "            \"Longitude\": [],\n",
    "            \"Max Temp\": [],\n",
    "            \"Humidity\": [],\n",
    "            \"Cloudiness\": [],\n",
    "            \"Wind Speed\": [],\n",
    "            \"Country\": []\n",
    "           }\n",
    "print('Begining data retrieval')\n",
    "\n",
    "counter = 1\n",
    "for city in cities:\n",
    "    try:\n",
    "        resp_json = requests.get(base_url + city).json()\n",
    "        data_dic['City'].append(resp_json['name'])\n",
    "        data_dic['Latitude'].append(resp_json['coord']['lat'])\n",
    "        data_dic['Longitude'].append(resp_json['coord']['lon'])\n",
    "        data_dic['Max Temp'].append(resp_json['main']['temp_max'])\n",
    "        data_dic['Humidity'].append(resp_json['main']['humidity'])\n",
    "        data_dic['Cloudiness'].append(resp_json['clouds']['all'])\n",
    "        data_dic['Wind Speed'].append(resp_json['wind']['speed'])\n",
    "        data_dic['Country'].append(resp_json['sys']['country'])\n",
    "        print(f\"City Name: {city}. ID: {counter}\")\n",
    "        counter +=1\n",
    "    except KeyError:\n",
    "        print(\"counldn't find city\")\n",
    "        cities.remove(city)\n",
    "        "
   ]
  },
  {
   "cell_type": "markdown",
   "metadata": {},
   "source": [
    "### Convert Raw Data to DataFrame\n",
    "* Export the city data into a .csv.\n",
    "* Display the DataFrame"
   ]
  },
  {
   "cell_type": "code",
   "execution_count": 11,
   "metadata": {},
   "outputs": [
    {
     "name": "stdout",
     "output_type": "stream",
     "text": [
      "567\n"
     ]
    },
    {
     "data": {
      "text/html": [
       "<div>\n",
       "<style scoped>\n",
       "    .dataframe tbody tr th:only-of-type {\n",
       "        vertical-align: middle;\n",
       "    }\n",
       "\n",
       "    .dataframe tbody tr th {\n",
       "        vertical-align: top;\n",
       "    }\n",
       "\n",
       "    .dataframe thead th {\n",
       "        text-align: right;\n",
       "    }\n",
       "</style>\n",
       "<table border=\"1\" class=\"dataframe\">\n",
       "  <thead>\n",
       "    <tr style=\"text-align: right;\">\n",
       "      <th></th>\n",
       "      <th>City</th>\n",
       "      <th>Latitude</th>\n",
       "      <th>Longitude</th>\n",
       "      <th>Max Temp</th>\n",
       "      <th>Humidity</th>\n",
       "      <th>Cloudiness</th>\n",
       "      <th>Wind Speed</th>\n",
       "      <th>Country</th>\n",
       "    </tr>\n",
       "  </thead>\n",
       "  <tbody>\n",
       "    <tr>\n",
       "      <th>0</th>\n",
       "      <td>Mukhen</td>\n",
       "      <td>48.10</td>\n",
       "      <td>136.10</td>\n",
       "      <td>67.50</td>\n",
       "      <td>80</td>\n",
       "      <td>3</td>\n",
       "      <td>1.10</td>\n",
       "      <td>RU</td>\n",
       "    </tr>\n",
       "    <tr>\n",
       "      <th>1</th>\n",
       "      <td>Atar</td>\n",
       "      <td>20.52</td>\n",
       "      <td>-13.05</td>\n",
       "      <td>98.58</td>\n",
       "      <td>15</td>\n",
       "      <td>2</td>\n",
       "      <td>5.93</td>\n",
       "      <td>MR</td>\n",
       "    </tr>\n",
       "    <tr>\n",
       "      <th>2</th>\n",
       "      <td>Nikolskoye</td>\n",
       "      <td>59.70</td>\n",
       "      <td>30.79</td>\n",
       "      <td>59.00</td>\n",
       "      <td>77</td>\n",
       "      <td>40</td>\n",
       "      <td>13.42</td>\n",
       "      <td>RU</td>\n",
       "    </tr>\n",
       "    <tr>\n",
       "      <th>3</th>\n",
       "      <td>Leona Vicario</td>\n",
       "      <td>20.97</td>\n",
       "      <td>-87.19</td>\n",
       "      <td>89.60</td>\n",
       "      <td>66</td>\n",
       "      <td>20</td>\n",
       "      <td>13.87</td>\n",
       "      <td>MX</td>\n",
       "    </tr>\n",
       "    <tr>\n",
       "      <th>4</th>\n",
       "      <td>Chokurdakh</td>\n",
       "      <td>70.63</td>\n",
       "      <td>147.92</td>\n",
       "      <td>52.95</td>\n",
       "      <td>40</td>\n",
       "      <td>34</td>\n",
       "      <td>9.64</td>\n",
       "      <td>RU</td>\n",
       "    </tr>\n",
       "  </tbody>\n",
       "</table>\n",
       "</div>"
      ],
      "text/plain": [
       "            City  Latitude  Longitude  Max Temp  Humidity  Cloudiness  \\\n",
       "0         Mukhen     48.10     136.10     67.50        80           3   \n",
       "1           Atar     20.52     -13.05     98.58        15           2   \n",
       "2     Nikolskoye     59.70      30.79     59.00        77          40   \n",
       "3  Leona Vicario     20.97     -87.19     89.60        66          20   \n",
       "4     Chokurdakh     70.63     147.92     52.95        40          34   \n",
       "\n",
       "   Wind Speed Country  \n",
       "0        1.10      RU  \n",
       "1        5.93      MR  \n",
       "2       13.42      RU  \n",
       "3       13.87      MX  \n",
       "4        9.64      RU  "
      ]
     },
     "execution_count": 11,
     "metadata": {},
     "output_type": "execute_result"
    }
   ],
   "source": [
    "data_df = pd.DataFrame(data_dic)\n",
    "print(len(data_df))\n",
    "data_df.head()"
   ]
  },
  {
   "cell_type": "code",
   "execution_count": 13,
   "metadata": {},
   "outputs": [
    {
     "data": {
      "text/html": [
       "<div>\n",
       "<style scoped>\n",
       "    .dataframe tbody tr th:only-of-type {\n",
       "        vertical-align: middle;\n",
       "    }\n",
       "\n",
       "    .dataframe tbody tr th {\n",
       "        vertical-align: top;\n",
       "    }\n",
       "\n",
       "    .dataframe thead th {\n",
       "        text-align: right;\n",
       "    }\n",
       "</style>\n",
       "<table border=\"1\" class=\"dataframe\">\n",
       "  <thead>\n",
       "    <tr style=\"text-align: right;\">\n",
       "      <th></th>\n",
       "      <th>City</th>\n",
       "      <th>Latitude</th>\n",
       "      <th>Longitude</th>\n",
       "      <th>Max Temp</th>\n",
       "      <th>Humidity</th>\n",
       "      <th>Cloudiness</th>\n",
       "      <th>Wind Speed</th>\n",
       "      <th>Country</th>\n",
       "    </tr>\n",
       "  </thead>\n",
       "  <tbody>\n",
       "    <tr>\n",
       "      <th>0</th>\n",
       "      <td>Mukhen</td>\n",
       "      <td>48.10</td>\n",
       "      <td>136.10</td>\n",
       "      <td>67.50</td>\n",
       "      <td>80</td>\n",
       "      <td>3</td>\n",
       "      <td>1.10</td>\n",
       "      <td>RU</td>\n",
       "    </tr>\n",
       "    <tr>\n",
       "      <th>1</th>\n",
       "      <td>Atar</td>\n",
       "      <td>20.52</td>\n",
       "      <td>-13.05</td>\n",
       "      <td>98.58</td>\n",
       "      <td>15</td>\n",
       "      <td>2</td>\n",
       "      <td>5.93</td>\n",
       "      <td>MR</td>\n",
       "    </tr>\n",
       "    <tr>\n",
       "      <th>2</th>\n",
       "      <td>Nikolskoye</td>\n",
       "      <td>59.70</td>\n",
       "      <td>30.79</td>\n",
       "      <td>59.00</td>\n",
       "      <td>77</td>\n",
       "      <td>40</td>\n",
       "      <td>13.42</td>\n",
       "      <td>RU</td>\n",
       "    </tr>\n",
       "    <tr>\n",
       "      <th>3</th>\n",
       "      <td>Leona Vicario</td>\n",
       "      <td>20.97</td>\n",
       "      <td>-87.19</td>\n",
       "      <td>89.60</td>\n",
       "      <td>66</td>\n",
       "      <td>20</td>\n",
       "      <td>13.87</td>\n",
       "      <td>MX</td>\n",
       "    </tr>\n",
       "    <tr>\n",
       "      <th>4</th>\n",
       "      <td>Chokurdakh</td>\n",
       "      <td>70.63</td>\n",
       "      <td>147.92</td>\n",
       "      <td>52.95</td>\n",
       "      <td>40</td>\n",
       "      <td>34</td>\n",
       "      <td>9.64</td>\n",
       "      <td>RU</td>\n",
       "    </tr>\n",
       "    <tr>\n",
       "      <th>...</th>\n",
       "      <td>...</td>\n",
       "      <td>...</td>\n",
       "      <td>...</td>\n",
       "      <td>...</td>\n",
       "      <td>...</td>\n",
       "      <td>...</td>\n",
       "      <td>...</td>\n",
       "      <td>...</td>\n",
       "    </tr>\n",
       "    <tr>\n",
       "      <th>562</th>\n",
       "      <td>Half Moon Bay</td>\n",
       "      <td>37.46</td>\n",
       "      <td>-122.43</td>\n",
       "      <td>86.00</td>\n",
       "      <td>39</td>\n",
       "      <td>5</td>\n",
       "      <td>9.17</td>\n",
       "      <td>US</td>\n",
       "    </tr>\n",
       "    <tr>\n",
       "      <th>563</th>\n",
       "      <td>Tiarei</td>\n",
       "      <td>-17.53</td>\n",
       "      <td>-149.33</td>\n",
       "      <td>80.60</td>\n",
       "      <td>61</td>\n",
       "      <td>20</td>\n",
       "      <td>10.29</td>\n",
       "      <td>PF</td>\n",
       "    </tr>\n",
       "    <tr>\n",
       "      <th>564</th>\n",
       "      <td>Scarborough</td>\n",
       "      <td>54.28</td>\n",
       "      <td>-0.40</td>\n",
       "      <td>57.00</td>\n",
       "      <td>81</td>\n",
       "      <td>49</td>\n",
       "      <td>4.65</td>\n",
       "      <td>GB</td>\n",
       "    </tr>\n",
       "    <tr>\n",
       "      <th>565</th>\n",
       "      <td>Karasburg</td>\n",
       "      <td>-28.02</td>\n",
       "      <td>18.75</td>\n",
       "      <td>51.46</td>\n",
       "      <td>40</td>\n",
       "      <td>0</td>\n",
       "      <td>6.31</td>\n",
       "      <td>NA</td>\n",
       "    </tr>\n",
       "    <tr>\n",
       "      <th>566</th>\n",
       "      <td>Bukavu</td>\n",
       "      <td>-2.51</td>\n",
       "      <td>28.86</td>\n",
       "      <td>59.85</td>\n",
       "      <td>78</td>\n",
       "      <td>23</td>\n",
       "      <td>1.66</td>\n",
       "      <td>CD</td>\n",
       "    </tr>\n",
       "  </tbody>\n",
       "</table>\n",
       "<p>567 rows × 8 columns</p>\n",
       "</div>"
      ],
      "text/plain": [
       "              City  Latitude  Longitude  Max Temp  Humidity  Cloudiness  \\\n",
       "0           Mukhen     48.10     136.10     67.50        80           3   \n",
       "1             Atar     20.52     -13.05     98.58        15           2   \n",
       "2       Nikolskoye     59.70      30.79     59.00        77          40   \n",
       "3    Leona Vicario     20.97     -87.19     89.60        66          20   \n",
       "4       Chokurdakh     70.63     147.92     52.95        40          34   \n",
       "..             ...       ...        ...       ...       ...         ...   \n",
       "562  Half Moon Bay     37.46    -122.43     86.00        39           5   \n",
       "563         Tiarei    -17.53    -149.33     80.60        61          20   \n",
       "564    Scarborough     54.28      -0.40     57.00        81          49   \n",
       "565      Karasburg    -28.02      18.75     51.46        40           0   \n",
       "566         Bukavu     -2.51      28.86     59.85        78          23   \n",
       "\n",
       "     Wind Speed Country  \n",
       "0          1.10      RU  \n",
       "1          5.93      MR  \n",
       "2         13.42      RU  \n",
       "3         13.87      MX  \n",
       "4          9.64      RU  \n",
       "..          ...     ...  \n",
       "562        9.17      US  \n",
       "563       10.29      PF  \n",
       "564        4.65      GB  \n",
       "565        6.31      NA  \n",
       "566        1.66      CD  \n",
       "\n",
       "[567 rows x 8 columns]"
      ]
     },
     "execution_count": 13,
     "metadata": {},
     "output_type": "execute_result"
    }
   ],
   "source": [
    "#export csv\n",
    "data_df.to_csv('WeatherPy.csv',index=False)"
   ]
  },
  {
   "cell_type": "markdown",
   "metadata": {},
   "source": [
    "## Inspect the data and remove the cities where the humidity > 100%.\n",
    "----\n",
    "Skip this step if there are no cities that have humidity > 100%. "
   ]
  },
  {
   "cell_type": "code",
   "execution_count": 14,
   "metadata": {},
   "outputs": [
    {
     "name": "stdout",
     "output_type": "stream",
     "text": [
      "100\n"
     ]
    },
    {
     "data": {
      "text/plain": [
       "0"
      ]
     },
     "execution_count": 14,
     "metadata": {},
     "output_type": "execute_result"
    }
   ],
   "source": [
    "too_humid = data_df.loc[data_df['Humidity'] >100]\n",
    "print(data_df['Humidity'].max())\n",
    "len(too_humid)"
   ]
  },
  {
   "cell_type": "code",
   "execution_count": null,
   "metadata": {},
   "outputs": [],
   "source": [
    "#  Get the indices of cities that have humidity over 100%.\n"
   ]
  },
  {
   "cell_type": "code",
   "execution_count": null,
   "metadata": {},
   "outputs": [],
   "source": [
    "# Make a new DataFrame equal to the city data to drop all humidity outliers by index.\n",
    "# Passing \"inplace=False\" will make a copy of the city_data DataFrame, which we call \"clean_city_data\".\n"
   ]
  },
  {
   "cell_type": "code",
   "execution_count": null,
   "metadata": {},
   "outputs": [],
   "source": [
    "# Extract relevant fields from the data frame\n",
    "\n",
    "\n",
    "# Export the City_Data into a csv\n"
   ]
  },
  {
   "cell_type": "markdown",
   "metadata": {},
   "source": [
    "## Plotting the Data\n",
    "* Use proper labeling of the plots using plot titles (including date of analysis) and axes labels.\n",
    "* Save the plotted figures as .pngs."
   ]
  },
  {
   "cell_type": "markdown",
   "metadata": {},
   "source": [
    "## Latitude vs. Temperature Plot"
   ]
  },
  {
   "cell_type": "code",
   "execution_count": 29,
   "metadata": {
    "scrolled": true
   },
   "outputs": [
    {
     "data": {
      "image/png": "[encoded data removed]",
      "text/plain": [
       "<Figure size 432x288 with 1 Axes>"
      ]
     },
     "metadata": {
      "needs_background": "light"
     },
     "output_type": "display_data"
    }
   ],
   "source": [
    "plt.scatter(data_df[\"Latitude\"], data_df[\"Max Temp\"], marker = \"o\")\n",
    "plt.title('Temperature in World Cities')\n",
    "plt.ylabel('Temperature (F)')\n",
    "plt.xlabel('Latitude')\n",
    "plt.grid(True)\n",
    "plt.savefig(\"Temp.png\")\n",
    "plt.show()"
   ]
  },
  {
   "cell_type": "markdown",
   "metadata": {},
   "source": [
    "## Latitude vs. Humidity Plot"
   ]
  },
  {
   "cell_type": "code",
   "execution_count": 30,
   "metadata": {},
   "outputs": [
    {
     "data": {
      "image/png": "[encoded data removed]",
      "text/plain": [
       "<Figure size 432x288 with 1 Axes>"
      ]
     },
     "metadata": {
      "needs_background": "light"
     },
     "output_type": "display_data"
    }
   ],
   "source": [
    "plt.scatter(data_df[\"Latitude\"], data_df[\"Humidity\"], marker = \"o\")\n",
    "plt.title(\"Humidity in World Cities\")\n",
    "plt.ylabel(\"Humidity\")\n",
    "plt.xlabel(\"Latitude\")\n",
    "plt.grid(True)\n",
    "plt.savefig(\"Humidity.png\")\n",
    "plt.show()"
   ]
  },
  {
   "cell_type": "markdown",
   "metadata": {},
   "source": [
    "## Latitude vs. Cloudiness Plot"
   ]
  },
  {
   "cell_type": "code",
   "execution_count": 31,
   "metadata": {},
   "outputs": [
    {
     "data": {
      "image/png": "[encoded data removed]",
      "text/plain": [
       "<Figure size 432x288 with 1 Axes>"
      ]
     },
     "metadata": {
      "needs_background": "light"
     },
     "output_type": "display_data"
    }
   ],
   "source": [
    "plt.scatter(data_df[\"Latitude\"], data_df[\"Cloudiness\"], marker = \"o\")\n",
    "plt.title(\"Wind Speed in World Cities\")\n",
    "plt.ylabel(\"Cloudiness\")\n",
    "plt.xlabel(\"Latitude\")\n",
    "plt.grid(True)\n",
    "plt.savefig(\"Cloudiness.png\")\n",
    "plt.show()"
   ]
  },
  {
   "cell_type": "markdown",
   "metadata": {},
   "source": [
    "## Latitude vs. Wind Speed Plot"
   ]
  },
  {
   "cell_type": "code",
   "execution_count": 33,
   "metadata": {},
   "outputs": [
    {
     "data": {
      "image/png": "[encoded data removed]",
      "text/plain": [
       "<Figure size 432x288 with 1 Axes>"
      ]
     },
     "metadata": {
      "needs_background": "light"
     },
     "output_type": "display_data"
    }
   ],
   "source": [
    "plt.scatter(data_df[\"Latitude\"], data_df[\"Wind Speed\"], marker = \"o\")\n",
    "plt.title(\"Wind Speed in World Cities\")\n",
    "plt.ylabel(\"Wind Speed\")\n",
    "plt.xlabel(\"Latitude\")\n",
    "plt.grid(True)\n",
    "plt.savefig(\"WindSpeed.png\")\n",
    "plt.show()"
   ]
  },
  {
   "cell_type": "markdown",
   "metadata": {},
   "source": [
    "## Linear Regression"
   ]
  },
  {
   "cell_type": "code",
   "execution_count": null,
   "metadata": {},
   "outputs": [],
   "source": [
    "# OPTIONAL: Create a function to create Linear Regression plots"
   ]
  },
  {
   "cell_type": "code",
   "execution_count": 34,
   "metadata": {},
   "outputs": [
    {
     "data": {
      "text/html": [
       "<div>\n",
       "<style scoped>\n",
       "    .dataframe tbody tr th:only-of-type {\n",
       "        vertical-align: middle;\n",
       "    }\n",
       "\n",
       "    .dataframe tbody tr th {\n",
       "        vertical-align: top;\n",
       "    }\n",
       "\n",
       "    .dataframe thead th {\n",
       "        text-align: right;\n",
       "    }\n",
       "</style>\n",
       "<table border=\"1\" class=\"dataframe\">\n",
       "  <thead>\n",
       "    <tr style=\"text-align: right;\">\n",
       "      <th></th>\n",
       "      <th>City</th>\n",
       "      <th>Latitude</th>\n",
       "      <th>Longitude</th>\n",
       "      <th>Max Temp</th>\n",
       "      <th>Humidity</th>\n",
       "      <th>Cloudiness</th>\n",
       "      <th>Wind Speed</th>\n",
       "      <th>Country</th>\n",
       "    </tr>\n",
       "  </thead>\n",
       "  <tbody>\n",
       "    <tr>\n",
       "      <th>6</th>\n",
       "      <td>Samarai</td>\n",
       "      <td>-10.62</td>\n",
       "      <td>150.67</td>\n",
       "      <td>78.58</td>\n",
       "      <td>85</td>\n",
       "      <td>54</td>\n",
       "      <td>17.16</td>\n",
       "      <td>PG</td>\n",
       "    </tr>\n",
       "    <tr>\n",
       "      <th>8</th>\n",
       "      <td>Port Alfred</td>\n",
       "      <td>-33.59</td>\n",
       "      <td>26.89</td>\n",
       "      <td>55.99</td>\n",
       "      <td>88</td>\n",
       "      <td>0</td>\n",
       "      <td>1.99</td>\n",
       "      <td>ZA</td>\n",
       "    </tr>\n",
       "    <tr>\n",
       "      <th>9</th>\n",
       "      <td>Ushuaia</td>\n",
       "      <td>-54.80</td>\n",
       "      <td>-68.30</td>\n",
       "      <td>28.40</td>\n",
       "      <td>86</td>\n",
       "      <td>0</td>\n",
       "      <td>4.70</td>\n",
       "      <td>AR</td>\n",
       "    </tr>\n",
       "    <tr>\n",
       "      <th>11</th>\n",
       "      <td>Caravelas</td>\n",
       "      <td>-17.71</td>\n",
       "      <td>-39.25</td>\n",
       "      <td>71.62</td>\n",
       "      <td>91</td>\n",
       "      <td>63</td>\n",
       "      <td>3.42</td>\n",
       "      <td>BR</td>\n",
       "    </tr>\n",
       "    <tr>\n",
       "      <th>12</th>\n",
       "      <td>Kavieng</td>\n",
       "      <td>-2.57</td>\n",
       "      <td>150.80</td>\n",
       "      <td>82.62</td>\n",
       "      <td>76</td>\n",
       "      <td>33</td>\n",
       "      <td>10.25</td>\n",
       "      <td>PG</td>\n",
       "    </tr>\n",
       "  </tbody>\n",
       "</table>\n",
       "</div>"
      ],
      "text/plain": [
       "           City  Latitude  Longitude  Max Temp  Humidity  Cloudiness  \\\n",
       "6       Samarai    -10.62     150.67     78.58        85          54   \n",
       "8   Port Alfred    -33.59      26.89     55.99        88           0   \n",
       "9       Ushuaia    -54.80     -68.30     28.40        86           0   \n",
       "11    Caravelas    -17.71     -39.25     71.62        91          63   \n",
       "12      Kavieng     -2.57     150.80     82.62        76          33   \n",
       "\n",
       "    Wind Speed Country  \n",
       "6        17.16      PG  \n",
       "8         1.99      ZA  \n",
       "9         4.70      AR  \n",
       "11        3.42      BR  \n",
       "12       10.25      PG  "
      ]
     },
     "execution_count": 34,
     "metadata": {},
     "output_type": "execute_result"
    }
   ],
   "source": [
    "# Create Northern and Southern Hemisphere DataFrames\n",
    "northern = data_df.loc[data_df['Latitude']>0]\n",
    "southern=data_df.loc[data_df['Latitude']<0]\n",
    "southern.head()"
   ]
  },
  {
   "cell_type": "code",
   "execution_count": 37,
   "metadata": {},
   "outputs": [],
   "source": [
    "def regression():\n",
    "    (slope, intercept, rvalue, pvalue, stderr) = linregress(x,y)\n",
    "    regress_values = x * slope + intercept\n",
    "    line_eq = \"y \" + str(round(slope,2)) + \"x + \" + str(round(intercept,2))\n",
    "    \n",
    "    plt.scatter(x,y)\n",
    "    plt.plot(x, regress_values, 'r-')\n",
    "    plt.annotate(line_eq, (0,0.2), xycoords='axes fraction', fontsize = 12, color = 'red')\n",
    "    plt.xlabel('Latitude')\n",
    "    plt.ylabel(y_label)\n",
    "    print(f\"The r-squared is: {rvalue**2}\")\n",
    "    plt.show()"
   ]
  },
  {
   "cell_type": "markdown",
   "metadata": {},
   "source": [
    "####  Northern Hemisphere - Max Temp vs. Latitude Linear Regression"
   ]
  },
  {
   "cell_type": "code",
   "execution_count": 38,
   "metadata": {},
   "outputs": [
    {
     "name": "stdout",
     "output_type": "stream",
     "text": [
      "The r-squared is: 0.5758164381158515\n"
     ]
    },
    {
     "data": {
      "image/png": "[encoded data removed]",
      "text/plain": [
       "<Figure size 432x288 with 1 Axes>"
      ]
     },
     "metadata": {
      "needs_background": "light"
     },
     "output_type": "display_data"
    }
   ],
   "source": [
    "x = northern['Latitude']\n",
    "y = northern['Max Temp']\n",
    "y_label = \"Max Temp\"\n",
    "regression()\n"
   ]
  },
  {
   "cell_type": "markdown",
   "metadata": {},
   "source": [
    "####  Southern Hemisphere - Max Temp vs. Latitude Linear Regression"
   ]
  },
  {
   "cell_type": "code",
   "execution_count": 39,
   "metadata": {},
   "outputs": [
    {
     "name": "stdout",
     "output_type": "stream",
     "text": [
      "The r-squared is: 0.7360472310766178\n"
     ]
    },
    {
     "data": {
      "image/png": "[encoded data removed]",
      "text/plain": [
       "<Figure size 432x288 with 1 Axes>"
      ]
     },
     "metadata": {
      "needs_background": "light"
     },
     "output_type": "display_data"
    }
   ],
   "source": [
    "x = southern['Latitude']\n",
    "y = southern['Max Temp']\n",
    "y_label = \"Max Temp\"\n",
    "regression()"
   ]
  },
  {
   "cell_type": "markdown",
   "metadata": {},
   "source": [
    "####  Northern Hemisphere - Humidity (%) vs. Latitude Linear Regression"
   ]
  },
  {
   "cell_type": "code",
   "execution_count": 40,
   "metadata": {
    "scrolled": true
   },
   "outputs": [
    {
     "name": "stdout",
     "output_type": "stream",
     "text": [
      "The r-squared is: 0.010107605290169745\n"
     ]
    },
    {
     "data": {
      "image/png": "[encoded data removed]",
      "text/plain": [
       "<Figure size 432x288 with 1 Axes>"
      ]
     },
     "metadata": {
      "needs_background": "light"
     },
     "output_type": "display_data"
    }
   ],
   "source": [
    "x = northern['Latitude']\n",
    "y = northern['Humidity']\n",
    "y_label = \"Humidity\"\n",
    "regression()"
   ]
  },
  {
   "cell_type": "markdown",
   "metadata": {},
   "source": [
    "####  Southern Hemisphere - Humidity (%) vs. Latitude Linear Regression"
   ]
  },
  {
   "cell_type": "code",
   "execution_count": 41,
   "metadata": {},
   "outputs": [
    {
     "name": "stdout",
     "output_type": "stream",
     "text": [
      "The r-squared is: 1.756887150721441e-05\n"
     ]
    },
    {
     "data": {
      "image/png": "[encoded data removed]",
      "text/plain": [
       "<Figure size 432x288 with 1 Axes>"
      ]
     },
     "metadata": {
      "needs_background": "light"
     },
     "output_type": "display_data"
    }
   ],
   "source": [
    "x = southern['Latitude']\n",
    "y = southern['Humidity']\n",
    "y_label = \"Humidity\"\n",
    "regression()"
   ]
  },
  {
   "cell_type": "markdown",
   "metadata": {},
   "source": [
    "####  Northern Hemisphere - Cloudiness (%) vs. Latitude Linear Regression"
   ]
  },
  {
   "cell_type": "code",
   "execution_count": 43,
   "metadata": {},
   "outputs": [
    {
     "name": "stdout",
     "output_type": "stream",
     "text": [
      "The r-squared is: 0.0020055226077463485\n"
     ]
    },
    {
     "data": {
      "image/png": "[encoded data removed]",
      "text/plain": [
       "<Figure size 432x288 with 1 Axes>"
      ]
     },
     "metadata": {
      "needs_background": "light"
     },
     "output_type": "display_data"
    }
   ],
   "source": [
    "x = northern['Latitude']\n",
    "y = northern['Cloudiness']\n",
    "y_label = \"Cloudiness\"\n",
    "regression()"
   ]
  },
  {
   "cell_type": "markdown",
   "metadata": {},
   "source": [
    "####  Southern Hemisphere - Cloudiness (%) vs. Latitude Linear Regression"
   ]
  },
  {
   "cell_type": "code",
   "execution_count": 44,
   "metadata": {},
   "outputs": [
    {
     "name": "stdout",
     "output_type": "stream",
     "text": [
      "The r-squared is: 0.02328599209942113\n"
     ]
    },
    {
     "data": {
      "image/png": "[encoded data removed]",
      "text/plain": [
       "<Figure size 432x288 with 1 Axes>"
      ]
     },
     "metadata": {
      "needs_background": "light"
     },
     "output_type": "display_data"
    }
   ],
   "source": [
    "x = southern['Latitude']\n",
    "y = southern['Cloudiness']\n",
    "y_label = \"Cloudiness\"\n",
    "regression()"
   ]
  },
  {
   "cell_type": "markdown",
   "metadata": {},
   "source": [
    "####  Northern Hemisphere - Wind Speed (mph) vs. Latitude Linear Regression"
   ]
  },
  {
   "cell_type": "code",
   "execution_count": 45,
   "metadata": {},
   "outputs": [
    {
     "name": "stdout",
     "output_type": "stream",
     "text": [
      "The r-squared is: 0.006170281839436313\n"
     ]
    },
    {
     "data": {
      "image/png": "[encoded data removed]",
      "text/plain": [
       "<Figure size 432x288 with 1 Axes>"
      ]
     },
     "metadata": {
      "needs_background": "light"
     },
     "output_type": "display_data"
    }
   ],
   "source": [
    "x = northern['Latitude']\n",
    "y = northern['Wind Speed']\n",
    "y_label = \"Wind Speed\"\n",
    "regression()"
   ]
  },
  {
   "cell_type": "markdown",
   "metadata": {},
   "source": [
    "####  Southern Hemisphere - Wind Speed (mph) vs. Latitude Linear Regression"
   ]
  },
  {
   "cell_type": "code",
   "execution_count": 46,
   "metadata": {},
   "outputs": [
    {
     "name": "stdout",
     "output_type": "stream",
     "text": [
      "The r-squared is: 0.03178653966886008\n"
     ]
    },
    {
     "data": {
      "image/png": "[encoded data removed]",
      "text/plain": [
       "<Figure size 432x288 with 1 Axes>"
      ]
     },
     "metadata": {
      "needs_background": "light"
     },
     "output_type": "display_data"
    }
   ],
   "source": [
    "x = southern['Latitude']\n",
    "y = southern['Wind Speed']\n",
    "y_label = \"Wind Speed\"\n",
    "regression()"
   ]
  },
  {
   "cell_type": "code",
   "execution_count": null,
   "metadata": {},
   "outputs": [],
   "source": []
  }
 ],
 "metadata": {
  "anaconda-cloud": {},
  "kernel_info": {
   "name": "python3"
  },
  "kernelspec": {
   "display_name": "Python [conda env:PythonData] *",
   "language": "python",
   "name": "conda-env-PythonData-py"
  },
  "language_info": {
   "codemirror_mode": {
    "name": "ipython",
    "version": 3
   },
   "file_extension": ".py",
   "mimetype": "text/x-python",
   "name": "python",
   "nbconvert_exporter": "python",
   "pygments_lexer": "ipython3",
   "version": "3.6.10"
  },
  "latex_envs": {
   "LaTeX_envs_menu_present": true,
   "autoclose": false,
   "autocomplete": true,
   "bibliofile": "biblio.bib",
   "cite_by": "apalike",
   "current_citInitial": 1,
   "eqLabelWithNumbers": true,
   "eqNumInitial": 1,
   "hotkeys": {
    "equation": "Ctrl-E",
    "itemize": "Ctrl-I"
   },
   "labels_anchors": false,
   "latex_user_defs": false,
   "report_style_numbering": false,
   "user_envs_cfg": false
  },
  "nteract": {
   "version": "0.12.3"
  }
 },
 "nbformat": 4,
 "nbformat_minor": 2
}
